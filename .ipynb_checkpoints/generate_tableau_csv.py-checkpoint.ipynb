{
 "cells": [
  {
   "cell_type": "code",
   "execution_count": 1,
   "id": "4acceb48-c0d9-4e85-b5aa-eb8e59795148",
   "metadata": {},
   "outputs": [
    {
     "name": "stdout",
     "output_type": "stream",
     "text": [
      "Requirement already satisfied: transformers in c:\\users\\sweet\\.anaconda\\download\\lib\\site-packages (4.51.3)\n",
      "Requirement already satisfied: torch in c:\\users\\sweet\\.anaconda\\download\\lib\\site-packages (2.2.0+cpu)\n",
      "Requirement already satisfied: pandas in c:\\users\\sweet\\.anaconda\\download\\lib\\site-packages (2.2.2)\n",
      "Requirement already satisfied: safetensors in c:\\users\\sweet\\.anaconda\\download\\lib\\site-packages (0.5.3)\n",
      "Requirement already satisfied: filelock in c:\\users\\sweet\\.anaconda\\download\\lib\\site-packages (from transformers) (3.13.1)\n",
      "Requirement already satisfied: huggingface-hub<1.0,>=0.30.0 in c:\\users\\sweet\\.anaconda\\download\\lib\\site-packages (from transformers) (0.30.2)\n",
      "Requirement already satisfied: numpy>=1.17 in c:\\users\\sweet\\.anaconda\\download\\lib\\site-packages (from transformers) (1.26.4)\n",
      "Requirement already satisfied: packaging>=20.0 in c:\\users\\sweet\\.anaconda\\download\\lib\\site-packages (from transformers) (24.1)\n",
      "Requirement already satisfied: pyyaml>=5.1 in c:\\users\\sweet\\.anaconda\\download\\lib\\site-packages (from transformers) (6.0.1)\n",
      "Requirement already satisfied: regex!=2019.12.17 in c:\\users\\sweet\\.anaconda\\download\\lib\\site-packages (from transformers) (2024.9.11)\n",
      "Requirement already satisfied: requests in c:\\users\\sweet\\.anaconda\\download\\lib\\site-packages (from transformers) (2.32.3)\n",
      "Requirement already satisfied: tokenizers<0.22,>=0.21 in c:\\users\\sweet\\.anaconda\\download\\lib\\site-packages (from transformers) (0.21.1)\n",
      "Requirement already satisfied: tqdm>=4.27 in c:\\users\\sweet\\.anaconda\\download\\lib\\site-packages (from transformers) (4.66.5)\n",
      "Requirement already satisfied: typing-extensions>=4.8.0 in c:\\users\\sweet\\.anaconda\\download\\lib\\site-packages (from torch) (4.11.0)\n",
      "Requirement already satisfied: sympy in c:\\users\\sweet\\.anaconda\\download\\lib\\site-packages (from torch) (1.14.0)\n",
      "Requirement already satisfied: networkx in c:\\users\\sweet\\.anaconda\\download\\lib\\site-packages (from torch) (3.3)\n",
      "Requirement already satisfied: jinja2 in c:\\users\\sweet\\.anaconda\\download\\lib\\site-packages (from torch) (3.1.4)\n",
      "Requirement already satisfied: fsspec in c:\\users\\sweet\\.anaconda\\download\\lib\\site-packages (from torch) (2024.6.1)\n",
      "Requirement already satisfied: python-dateutil>=2.8.2 in c:\\users\\sweet\\.anaconda\\download\\lib\\site-packages (from pandas) (2.9.0.post0)\n",
      "Requirement already satisfied: pytz>=2020.1 in c:\\users\\sweet\\.anaconda\\download\\lib\\site-packages (from pandas) (2024.1)\n",
      "Requirement already satisfied: tzdata>=2022.7 in c:\\users\\sweet\\.anaconda\\download\\lib\\site-packages (from pandas) (2023.3)\n",
      "Requirement already satisfied: six>=1.5 in c:\\users\\sweet\\.anaconda\\download\\lib\\site-packages (from python-dateutil>=2.8.2->pandas) (1.16.0)\n",
      "Requirement already satisfied: colorama in c:\\users\\sweet\\.anaconda\\download\\lib\\site-packages (from tqdm>=4.27->transformers) (0.4.6)\n",
      "Requirement already satisfied: MarkupSafe>=2.0 in c:\\users\\sweet\\.anaconda\\download\\lib\\site-packages (from jinja2->torch) (2.1.3)\n",
      "Requirement already satisfied: charset-normalizer<4,>=2 in c:\\users\\sweet\\.anaconda\\download\\lib\\site-packages (from requests->transformers) (3.3.2)\n",
      "Requirement already satisfied: idna<4,>=2.5 in c:\\users\\sweet\\.anaconda\\download\\lib\\site-packages (from requests->transformers) (3.7)\n",
      "Requirement already satisfied: urllib3<3,>=1.21.1 in c:\\users\\sweet\\.anaconda\\download\\lib\\site-packages (from requests->transformers) (2.2.3)\n",
      "Requirement already satisfied: certifi>=2017.4.17 in c:\\users\\sweet\\.anaconda\\download\\lib\\site-packages (from requests->transformers) (2024.8.30)\n",
      "Requirement already satisfied: mpmath<1.4,>=1.1.0 in c:\\users\\sweet\\.anaconda\\download\\lib\\site-packages (from sympy->torch) (1.3.0)\n"
     ]
    }
   ],
   "source": [
    "!pip install transformers torch pandas safetensors"
   ]
  },
  {
   "cell_type": "code",
   "execution_count": 2,
   "id": "99c2c600-c6b0-4aa8-b052-74449689f4bf",
   "metadata": {},
   "outputs": [],
   "source": [
    "import pandas as pd\n",
    "import torch\n",
    "from transformers import BertTokenizer, BertForSequenceClassification\n",
    "from safetensors.torch import load_file"
   ]
  },
  {
   "cell_type": "code",
   "execution_count": 3,
   "id": "fe400e3d-9a9d-474c-8272-bec0fbbdf811",
   "metadata": {},
   "outputs": [],
   "source": [
    "# Step 1: Load dataset\n",
    "df = pd.read_csv(\"imdb_sample_500.csv\")\n",
    "df.rename(columns={'sentiment': 'true_sentiment'}, inplace=True)"
   ]
  },
  {
   "cell_type": "code",
   "execution_count": 4,
   "id": "8beada3c-e96a-4e86-83c1-e4e43f319794",
   "metadata": {},
   "outputs": [],
   "source": [
    "# Step 2: Load tokenizer\n",
    "tokenizer = BertTokenizer.from_pretrained(\n",
    "    '.', \n",
    "    config='config.json',\n",
    "    tokenizer_file=None\n",
    ")"
   ]
  },
  {
   "cell_type": "code",
   "execution_count": 5,
   "id": "259157c5-b47a-45f0-91f9-a750e8470f4f",
   "metadata": {},
   "outputs": [
    {
     "data": {
      "text/plain": [
       "BertForSequenceClassification(\n",
       "  (bert): BertModel(\n",
       "    (embeddings): BertEmbeddings(\n",
       "      (word_embeddings): Embedding(30522, 768, padding_idx=0)\n",
       "      (position_embeddings): Embedding(512, 768)\n",
       "      (token_type_embeddings): Embedding(2, 768)\n",
       "      (LayerNorm): LayerNorm((768,), eps=1e-12, elementwise_affine=True)\n",
       "      (dropout): Dropout(p=0.1, inplace=False)\n",
       "    )\n",
       "    (encoder): BertEncoder(\n",
       "      (layer): ModuleList(\n",
       "        (0-11): 12 x BertLayer(\n",
       "          (attention): BertAttention(\n",
       "            (self): BertSdpaSelfAttention(\n",
       "              (query): Linear(in_features=768, out_features=768, bias=True)\n",
       "              (key): Linear(in_features=768, out_features=768, bias=True)\n",
       "              (value): Linear(in_features=768, out_features=768, bias=True)\n",
       "              (dropout): Dropout(p=0.1, inplace=False)\n",
       "            )\n",
       "            (output): BertSelfOutput(\n",
       "              (dense): Linear(in_features=768, out_features=768, bias=True)\n",
       "              (LayerNorm): LayerNorm((768,), eps=1e-12, elementwise_affine=True)\n",
       "              (dropout): Dropout(p=0.1, inplace=False)\n",
       "            )\n",
       "          )\n",
       "          (intermediate): BertIntermediate(\n",
       "            (dense): Linear(in_features=768, out_features=3072, bias=True)\n",
       "            (intermediate_act_fn): GELUActivation()\n",
       "          )\n",
       "          (output): BertOutput(\n",
       "            (dense): Linear(in_features=3072, out_features=768, bias=True)\n",
       "            (LayerNorm): LayerNorm((768,), eps=1e-12, elementwise_affine=True)\n",
       "            (dropout): Dropout(p=0.1, inplace=False)\n",
       "          )\n",
       "        )\n",
       "      )\n",
       "    )\n",
       "    (pooler): BertPooler(\n",
       "      (dense): Linear(in_features=768, out_features=768, bias=True)\n",
       "      (activation): Tanh()\n",
       "    )\n",
       "  )\n",
       "  (dropout): Dropout(p=0.1, inplace=False)\n",
       "  (classifier): Linear(in_features=768, out_features=2, bias=True)\n",
       ")"
      ]
     },
     "execution_count": 5,
     "metadata": {},
     "output_type": "execute_result"
    }
   ],
   "source": [
    "# Step 3: Load model + inject safetensors weights\n",
    "model = BertForSequenceClassification.from_pretrained('.', config='config.json')\n",
    "model.load_state_dict(load_file(\"model.safetensors\"))\n",
    "model.eval()"
   ]
  },
  {
   "cell_type": "code",
   "execution_count": 6,
   "id": "32fee21a-9677-4bc9-929c-426f23134b8f",
   "metadata": {},
   "outputs": [],
   "source": [
    "# Step 4: Prediction function\n",
    "def get_prediction(text):\n",
    "    inputs = tokenizer(text, return_tensors=\"pt\", truncation=True, padding=True, max_length=512)\n",
    "    with torch.no_grad():\n",
    "        outputs = model(**inputs)\n",
    "    probs = torch.softmax(outputs.logits, dim=1).squeeze().tolist()\n",
    "    predicted_label = 'positive' if probs[1] > probs[0] else 'negative'\n",
    "    confidence = round(max(probs), 4)\n",
    "    return predicted_label, confidence"
   ]
  },
  {
   "cell_type": "code",
   "execution_count": 7,
   "id": "28b24554-42b5-410e-869c-76053c79a0fb",
   "metadata": {},
   "outputs": [],
   "source": [
    "# Step 5: Apply predictions\n",
    "df[['predicted_sentiment', 'confidence_score']] = df['review'].apply(\n",
    "    lambda x: pd.Series(get_prediction(x))\n",
    ")"
   ]
  },
  {
   "cell_type": "code",
   "execution_count": 8,
   "id": "82e53335-73c6-4421-b8c2-8365c2368f6b",
   "metadata": {},
   "outputs": [],
   "source": [
    "# Step 6: Add misclassified flag\n",
    "df['misclassified_flag'] = df.apply(\n",
    "    lambda row: 'Yes' if row['true_sentiment'].lower() != row['predicted_sentiment'].lower() else 'No',\n",
    "    axis=1\n",
    ")"
   ]
  },
  {
   "cell_type": "code",
   "execution_count": 9,
   "id": "e6b94078-7973-4370-96c5-ccf4e2d9edfc",
   "metadata": {},
   "outputs": [
    {
     "name": "stdout",
     "output_type": "stream",
     "text": [
      "✅ Done! File saved: tableau_sentiment_analysis.csv\n"
     ]
    }
   ],
   "source": [
    "# Step 7: Save output\n",
    "df.to_csv(\"tableau_sentiment_analysis.csv\", index=False)\n",
    "print(\"✅ Done! File saved: tableau_sentiment_analysis.csv\")"
   ]
  }
 ],
 "metadata": {
  "kernelspec": {
   "display_name": "Python 3 (ipykernel)",
   "language": "python",
   "name": "python3"
  },
  "language_info": {
   "codemirror_mode": {
    "name": "ipython",
    "version": 3
   },
   "file_extension": ".py",
   "mimetype": "text/x-python",
   "name": "python",
   "nbconvert_exporter": "python",
   "pygments_lexer": "ipython3",
   "version": "3.12.7"
  }
 },
 "nbformat": 4,
 "nbformat_minor": 5
}
